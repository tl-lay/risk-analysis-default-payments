{
 "cells": [
  {
   "cell_type": "markdown",
   "id": "786d6867",
   "metadata": {},
   "source": [
    "# Classifying the Risk of Default Payments of Purchases for an Online Trader\n",
    "\n",
    "# Data Exploration and Model Selection\n",
    "\n",
    "Name: Terry Lay\n",
    "\n",
    "Student Number: N01601584"
   ]
  },
  {
   "cell_type": "code",
   "execution_count": 131,
   "id": "3afcfbc2",
   "metadata": {},
   "outputs": [],
   "source": [
    "# Importing libraries\n",
    "import numpy as np\n",
    "import pandas as pd\n",
    "import matplotlib.pyplot as plt\n",
    "import seaborn as sns\n",
    "from sklearn.model_selection import train_test_split\n",
    "from sklearn.ensemble import RandomForestClassifier\n",
    "from sklearn.metrics import accuracy_score\n",
    "from sklearn.preprocessing import StandardScaler, MinMaxScaler\n",
    "from sklearn.model_selection import cross_val_predict\n",
    "from sklearn.linear_model import LogisticRegression\n",
    "from xgboost import XGBClassifier\n",
    "from sklearn.svm import SVC\n",
    "from sklearn.metrics import classification_report, confusion_matrix, roc_curve, roc_auc_score"
   ]
  },
  {
   "cell_type": "markdown",
   "id": "c2f50842",
   "metadata": {},
   "source": [
    "## Importing the Training Data"
   ]
  },
  {
   "cell_type": "code",
   "execution_count": 2,
   "id": "fbdbf700",
   "metadata": {},
   "outputs": [
    {
     "data": {
      "text/html": [
       "<div>\n",
       "<style scoped>\n",
       "    .dataframe tbody tr th:only-of-type {\n",
       "        vertical-align: middle;\n",
       "    }\n",
       "\n",
       "    .dataframe tbody tr th {\n",
       "        vertical-align: top;\n",
       "    }\n",
       "\n",
       "    .dataframe thead th {\n",
       "        text-align: right;\n",
       "    }\n",
       "</style>\n",
       "<table border=\"1\" class=\"dataframe\">\n",
       "  <thead>\n",
       "    <tr style=\"text-align: right;\">\n",
       "      <th></th>\n",
       "      <th>CLASS</th>\n",
       "      <th>B_EMAIL</th>\n",
       "      <th>B_TELEFON</th>\n",
       "      <th>B_BIRTHDATE</th>\n",
       "      <th>FLAG_LRIDENTISCH</th>\n",
       "      <th>FLAG_NEWSLETTER</th>\n",
       "      <th>Z_METHODE</th>\n",
       "      <th>Z_CARD_ART</th>\n",
       "      <th>Z_CARD_VALID</th>\n",
       "      <th>Z_LAST_NAME</th>\n",
       "      <th>...</th>\n",
       "      <th>FAIL_RPLZ</th>\n",
       "      <th>FAIL_RORT</th>\n",
       "      <th>FAIL_RPLZORTMATCH</th>\n",
       "      <th>SESSION_TIME</th>\n",
       "      <th>NEUKUNDE</th>\n",
       "      <th>AMOUNT_ORDER_PRE</th>\n",
       "      <th>VALUE_ORDER_PRE</th>\n",
       "      <th>DATE_LORDER</th>\n",
       "      <th>MAHN_AKT</th>\n",
       "      <th>MAHN_HOECHST</th>\n",
       "    </tr>\n",
       "  </thead>\n",
       "  <tbody>\n",
       "    <tr>\n",
       "      <th>0</th>\n",
       "      <td>no</td>\n",
       "      <td>yes</td>\n",
       "      <td>no</td>\n",
       "      <td>1/17/1973</td>\n",
       "      <td>yes</td>\n",
       "      <td>yes</td>\n",
       "      <td>check</td>\n",
       "      <td>?</td>\n",
       "      <td>5.2006</td>\n",
       "      <td>?</td>\n",
       "      <td>...</td>\n",
       "      <td>no</td>\n",
       "      <td>no</td>\n",
       "      <td>no</td>\n",
       "      <td>8</td>\n",
       "      <td>yes</td>\n",
       "      <td>0</td>\n",
       "      <td>0.00</td>\n",
       "      <td>?</td>\n",
       "      <td>?</td>\n",
       "      <td>?</td>\n",
       "    </tr>\n",
       "    <tr>\n",
       "      <th>1</th>\n",
       "      <td>no</td>\n",
       "      <td>yes</td>\n",
       "      <td>yes</td>\n",
       "      <td>12/8/1970</td>\n",
       "      <td>no</td>\n",
       "      <td>no</td>\n",
       "      <td>credit_card</td>\n",
       "      <td>Visa</td>\n",
       "      <td>12.2007</td>\n",
       "      <td>yes</td>\n",
       "      <td>...</td>\n",
       "      <td>yes</td>\n",
       "      <td>no</td>\n",
       "      <td>no</td>\n",
       "      <td>13</td>\n",
       "      <td>yes</td>\n",
       "      <td>0</td>\n",
       "      <td>0.00</td>\n",
       "      <td>?</td>\n",
       "      <td>?</td>\n",
       "      <td>?</td>\n",
       "    </tr>\n",
       "    <tr>\n",
       "      <th>2</th>\n",
       "      <td>no</td>\n",
       "      <td>yes</td>\n",
       "      <td>no</td>\n",
       "      <td>4/3/1972</td>\n",
       "      <td>yes</td>\n",
       "      <td>no</td>\n",
       "      <td>check</td>\n",
       "      <td>?</td>\n",
       "      <td>12.2007</td>\n",
       "      <td>?</td>\n",
       "      <td>...</td>\n",
       "      <td>no</td>\n",
       "      <td>no</td>\n",
       "      <td>no</td>\n",
       "      <td>3</td>\n",
       "      <td>yes</td>\n",
       "      <td>0</td>\n",
       "      <td>0.00</td>\n",
       "      <td>?</td>\n",
       "      <td>?</td>\n",
       "      <td>?</td>\n",
       "    </tr>\n",
       "    <tr>\n",
       "      <th>3</th>\n",
       "      <td>no</td>\n",
       "      <td>no</td>\n",
       "      <td>yes</td>\n",
       "      <td>8/1/1966</td>\n",
       "      <td>yes</td>\n",
       "      <td>no</td>\n",
       "      <td>check</td>\n",
       "      <td>?</td>\n",
       "      <td>1.2007</td>\n",
       "      <td>?</td>\n",
       "      <td>...</td>\n",
       "      <td>no</td>\n",
       "      <td>no</td>\n",
       "      <td>no</td>\n",
       "      <td>11</td>\n",
       "      <td>no</td>\n",
       "      <td>4</td>\n",
       "      <td>75.72</td>\n",
       "      <td>5/12/2002</td>\n",
       "      <td>0</td>\n",
       "      <td>0</td>\n",
       "    </tr>\n",
       "    <tr>\n",
       "      <th>4</th>\n",
       "      <td>no</td>\n",
       "      <td>yes</td>\n",
       "      <td>yes</td>\n",
       "      <td>12/21/1969</td>\n",
       "      <td>yes</td>\n",
       "      <td>no</td>\n",
       "      <td>credit_card</td>\n",
       "      <td>Eurocard</td>\n",
       "      <td>12.2006</td>\n",
       "      <td>yes</td>\n",
       "      <td>...</td>\n",
       "      <td>no</td>\n",
       "      <td>no</td>\n",
       "      <td>no</td>\n",
       "      <td>16</td>\n",
       "      <td>yes</td>\n",
       "      <td>0</td>\n",
       "      <td>0.00</td>\n",
       "      <td>?</td>\n",
       "      <td>?</td>\n",
       "      <td>?</td>\n",
       "    </tr>\n",
       "  </tbody>\n",
       "</table>\n",
       "<p>5 rows × 43 columns</p>\n",
       "</div>"
      ],
      "text/plain": [
       "  CLASS B_EMAIL B_TELEFON B_BIRTHDATE FLAG_LRIDENTISCH FLAG_NEWSLETTER  \\\n",
       "0    no     yes        no   1/17/1973              yes             yes   \n",
       "1    no     yes       yes   12/8/1970               no              no   \n",
       "2    no     yes        no    4/3/1972              yes              no   \n",
       "3    no      no       yes    8/1/1966              yes              no   \n",
       "4    no     yes       yes  12/21/1969              yes              no   \n",
       "\n",
       "     Z_METHODE Z_CARD_ART  Z_CARD_VALID Z_LAST_NAME  ...  FAIL_RPLZ FAIL_RORT  \\\n",
       "0        check          ?        5.2006           ?  ...         no        no   \n",
       "1  credit_card       Visa       12.2007         yes  ...        yes        no   \n",
       "2        check          ?       12.2007           ?  ...         no        no   \n",
       "3        check          ?        1.2007           ?  ...         no        no   \n",
       "4  credit_card   Eurocard       12.2006         yes  ...         no        no   \n",
       "\n",
       "  FAIL_RPLZORTMATCH  SESSION_TIME  NEUKUNDE AMOUNT_ORDER_PRE VALUE_ORDER_PRE  \\\n",
       "0                no             8       yes                0            0.00   \n",
       "1                no            13       yes                0            0.00   \n",
       "2                no             3       yes                0            0.00   \n",
       "3                no            11        no                4           75.72   \n",
       "4                no            16       yes                0            0.00   \n",
       "\n",
       "  DATE_LORDER MAHN_AKT MAHN_HOECHST  \n",
       "0           ?        ?            ?  \n",
       "1           ?        ?            ?  \n",
       "2           ?        ?            ?  \n",
       "3   5/12/2002        0            0  \n",
       "4           ?        ?            ?  \n",
       "\n",
       "[5 rows x 43 columns]"
      ]
     },
     "execution_count": 2,
     "metadata": {},
     "output_type": "execute_result"
    }
   ],
   "source": [
    "risk_train = pd.read_csv('data/risk-train.txt', sep='\\t')\n",
    "risk_train = risk_train.drop(['ORDER_ID'], axis=1)\n",
    "risk_train.head()"
   ]
  },
  {
   "cell_type": "markdown",
   "id": "ac877bc8",
   "metadata": {},
   "source": [
    "## Data Preprocessing"
   ]
  },
  {
   "cell_type": "code",
   "execution_count": 3,
   "id": "01e75f41",
   "metadata": {},
   "outputs": [],
   "source": [
    "def check_missing(dataset):\n",
    "# Function to check the number of '?' in the dataset.\n",
    "    missing = dataset.isin(['?']).sum(axis=0)\n",
    "    return missing[missing!=0]"
   ]
  },
  {
   "cell_type": "code",
   "execution_count": 4,
   "id": "1b7350bb",
   "metadata": {},
   "outputs": [
    {
     "data": {
      "text/plain": [
       "(30000, 43)"
      ]
     },
     "execution_count": 4,
     "metadata": {},
     "output_type": "execute_result"
    }
   ],
   "source": [
    "risk_train.shape"
   ]
  },
  {
   "cell_type": "markdown",
   "id": "e17e144e",
   "metadata": {},
   "source": [
    "### Missing Values\n",
    "\n",
    "First we will handle the missing values in the dataset."
   ]
  },
  {
   "cell_type": "code",
   "execution_count": 5,
   "id": "fa9902a5",
   "metadata": {},
   "outputs": [
    {
     "data": {
      "text/plain": [
       "B_BIRTHDATE      2942\n",
       "Z_CARD_ART      18654\n",
       "Z_LAST_NAME     14808\n",
       "TIME_ORDER         20\n",
       "ANUMMER_02      22147\n",
       "ANUMMER_03      26802\n",
       "ANUMMER_04      28668\n",
       "ANUMMER_05      29459\n",
       "ANUMMER_06      29794\n",
       "ANUMMER_07      29905\n",
       "ANUMMER_08      29966\n",
       "ANUMMER_09      29993\n",
       "ANUMMER_10      30000\n",
       "DATE_LORDER     15856\n",
       "MAHN_AKT        15856\n",
       "MAHN_HOECHST    15856\n",
       "dtype: int64"
      ]
     },
     "execution_count": 5,
     "metadata": {},
     "output_type": "execute_result"
    }
   ],
   "source": [
    "# Counting the number of missing values\n",
    "check_missing(risk_train)"
   ]
  },
  {
   "cell_type": "code",
   "execution_count": 6,
   "id": "93e33391",
   "metadata": {},
   "outputs": [
    {
     "data": {
      "text/plain": [
       "check          14808\n",
       "credit_card     9796\n",
       "debit_note      3846\n",
       "debit_card      1550\n",
       "Name: Z_METHODE, dtype: int64"
      ]
     },
     "execution_count": 6,
     "metadata": {},
     "output_type": "execute_result"
    }
   ],
   "source": [
    "risk_train['Z_METHODE'].value_counts()"
   ]
  },
  {
   "cell_type": "markdown",
   "id": "18a78dca",
   "metadata": {},
   "source": [
    "If a check is given then there is no data for the last name of the card holder. The number of missing values in Z_CARD_ART also corresponds to the number of payment methods that were checks or debit notes."
   ]
  },
  {
   "cell_type": "code",
   "execution_count": 7,
   "id": "339abc6b",
   "metadata": {},
   "outputs": [
    {
     "data": {
      "text/plain": [
       "?             18654\n",
       "Eurocard       5096\n",
       "Visa           3927\n",
       "debit_card     1550\n",
       "Amex            773\n",
       "Name: Z_CARD_ART, dtype: int64"
      ]
     },
     "execution_count": 7,
     "metadata": {},
     "output_type": "execute_result"
    }
   ],
   "source": [
    "risk_train['Z_CARD_ART'].value_counts()"
   ]
  },
  {
   "cell_type": "code",
   "execution_count": 8,
   "id": "9b5a32e0",
   "metadata": {},
   "outputs": [],
   "source": [
    "risk_train.loc[risk_train.Z_METHODE == 'credit_card', \n",
    "               'Z_METHODE'] = risk_train.Z_CARD_ART\n",
    "risk_train = risk_train.drop(['Z_CARD_ART','Z_LAST_NAME'], axis=1)"
   ]
  },
  {
   "cell_type": "code",
   "execution_count": 9,
   "id": "99cf6408",
   "metadata": {},
   "outputs": [
    {
     "data": {
      "text/plain": [
       "check         14808\n",
       "Eurocard       5096\n",
       "Visa           3927\n",
       "debit_note     3846\n",
       "debit_card     1550\n",
       "Amex            773\n",
       "Name: Z_METHODE, dtype: int64"
      ]
     },
     "execution_count": 9,
     "metadata": {},
     "output_type": "execute_result"
    }
   ],
   "source": [
    "risk_train['Z_METHODE'].value_counts()"
   ]
  },
  {
   "cell_type": "markdown",
   "id": "d70d052c",
   "metadata": {},
   "source": [
    "Next, we will drop the ANUMMER columns indicating the item number, as the item ID is unlikely to influence the target variable."
   ]
  },
  {
   "cell_type": "code",
   "execution_count": 10,
   "id": "2470b97c",
   "metadata": {},
   "outputs": [],
   "source": [
    "risk_train = risk_train.drop(['ANUMMER_01', \n",
    "                 'ANUMMER_02',\n",
    "                 'ANUMMER_03', \n",
    "                 'ANUMMER_04', \n",
    "                 'ANUMMER_05', \n",
    "                 'ANUMMER_06', \n",
    "                 'ANUMMER_07', \n",
    "                 'ANUMMER_08', \n",
    "                 'ANUMMER_09', \n",
    "                 'ANUMMER_10'], axis=1)"
   ]
  },
  {
   "cell_type": "markdown",
   "id": "d27ea6f8",
   "metadata": {},
   "source": [
    "Let's see if whether or not a birthdate was submitted with the order has an effect on the class."
   ]
  },
  {
   "cell_type": "code",
   "execution_count": 11,
   "id": "10799d4e",
   "metadata": {},
   "outputs": [],
   "source": [
    "risk_train['BIRTHDATE_SUBMITTED'] = risk_train['B_BIRTHDATE'].apply(lambda x: 1 if not (x=='?') else 0)"
   ]
  },
  {
   "cell_type": "code",
   "execution_count": 12,
   "id": "12cc359d",
   "metadata": {},
   "outputs": [
    {
     "data": {
      "text/html": [
       "<div>\n",
       "<style scoped>\n",
       "    .dataframe tbody tr th:only-of-type {\n",
       "        vertical-align: middle;\n",
       "    }\n",
       "\n",
       "    .dataframe tbody tr th {\n",
       "        vertical-align: top;\n",
       "    }\n",
       "\n",
       "    .dataframe thead th {\n",
       "        text-align: right;\n",
       "    }\n",
       "</style>\n",
       "<table border=\"1\" class=\"dataframe\">\n",
       "  <thead>\n",
       "    <tr style=\"text-align: right;\">\n",
       "      <th>CLASS</th>\n",
       "      <th>no</th>\n",
       "      <th>yes</th>\n",
       "      <th>All</th>\n",
       "    </tr>\n",
       "    <tr>\n",
       "      <th>BIRTHDATE_SUBMITTED</th>\n",
       "      <th></th>\n",
       "      <th></th>\n",
       "      <th></th>\n",
       "    </tr>\n",
       "  </thead>\n",
       "  <tbody>\n",
       "    <tr>\n",
       "      <th>0</th>\n",
       "      <td>2765</td>\n",
       "      <td>177</td>\n",
       "      <td>2942</td>\n",
       "    </tr>\n",
       "    <tr>\n",
       "      <th>1</th>\n",
       "      <td>25489</td>\n",
       "      <td>1569</td>\n",
       "      <td>27058</td>\n",
       "    </tr>\n",
       "    <tr>\n",
       "      <th>All</th>\n",
       "      <td>28254</td>\n",
       "      <td>1746</td>\n",
       "      <td>30000</td>\n",
       "    </tr>\n",
       "  </tbody>\n",
       "</table>\n",
       "</div>"
      ],
      "text/plain": [
       "CLASS                   no   yes    All\n",
       "BIRTHDATE_SUBMITTED                    \n",
       "0                     2765   177   2942\n",
       "1                    25489  1569  27058\n",
       "All                  28254  1746  30000"
      ]
     },
     "execution_count": 12,
     "metadata": {},
     "output_type": "execute_result"
    }
   ],
   "source": [
    "crosstab = pd.crosstab(risk_train.BIRTHDATE_SUBMITTED, risk_train.CLASS, margins=True)\n",
    "crosstab"
   ]
  },
  {
   "cell_type": "code",
   "execution_count": 13,
   "id": "84c498cd",
   "metadata": {},
   "outputs": [
    {
     "data": {
      "text/plain": [
       "<AxesSubplot:xlabel='BIRTHDATE_SUBMITTED'>"
      ]
     },
     "execution_count": 13,
     "metadata": {},
     "output_type": "execute_result"
    },
    {
     "data": {
      "image/png": "[encoded data removed]",
      "text/plain": [
       "<Figure size 640x480 with 1 Axes>"
      ]
     },
     "metadata": {},
     "output_type": "display_data"
    }
   ],
   "source": [
    "risk_train.groupby(['BIRTHDATE_SUBMITTED','CLASS']).size().unstack().plot(kind='bar')"
   ]
  },
  {
   "cell_type": "markdown",
   "id": "544094c8",
   "metadata": {},
   "source": [
    "We will drop the birthdate columns because it appears that the proportion of people who are high risk is not associated with whether they submitted their birthdate. "
   ]
  },
  {
   "cell_type": "code",
   "execution_count": 14,
   "id": "63ed259b",
   "metadata": {},
   "outputs": [],
   "source": [
    "risk_train = risk_train.drop(['BIRTHDATE_SUBMITTED', 'B_BIRTHDATE'], axis=1)"
   ]
  },
  {
   "cell_type": "markdown",
   "id": "942edda5",
   "metadata": {},
   "source": [
    "There may be a higher risk associated for those who are new customers. Let's see whether or not this is the case."
   ]
  },
  {
   "cell_type": "code",
   "execution_count": 15,
   "id": "58e725eb",
   "metadata": {},
   "outputs": [
    {
     "data": {
      "text/plain": [
       "<AxesSubplot:xlabel='NEUKUNDE'>"
      ]
     },
     "execution_count": 15,
     "metadata": {},
     "output_type": "execute_result"
    },
    {
     "data": {
      "image/png": "[encoded data removed]",
      "text/plain": [
       "<Figure size 640x480 with 1 Axes>"
      ]
     },
     "metadata": {},
     "output_type": "display_data"
    }
   ],
   "source": [
    "risk_train.groupby(['NEUKUNDE','CLASS']).size().unstack().plot(kind='bar')"
   ]
  },
  {
   "cell_type": "markdown",
   "id": "07a61336",
   "metadata": {},
   "source": [
    "It appears that new customers have a higher proportion of high risk to low risk purchases. We will drop columns related to returning customers since we also have many missing values for them."
   ]
  },
  {
   "cell_type": "code",
   "execution_count": 16,
   "id": "03be7781",
   "metadata": {},
   "outputs": [],
   "source": [
    "risk_train = risk_train.drop(['AMOUNT_ORDER_PRE',\n",
    "                              'VALUE_ORDER_PRE',\n",
    "                              'DATE_LORDER',\n",
    "                              'MAHN_AKT',\n",
    "                              'MAHN_HOECHST'], axis=1)"
   ]
  },
  {
   "cell_type": "markdown",
   "id": "6e5573a4",
   "metadata": {},
   "source": [
    "The last column with missing values is TIME_ORDER. We will drop this column as well as we do not suspect that the time of order has an association with the risk of default payment."
   ]
  },
  {
   "cell_type": "code",
   "execution_count": 17,
   "id": "fcd73182",
   "metadata": {},
   "outputs": [],
   "source": [
    "risk_train = risk_train.drop(['TIME_ORDER'], axis=1)"
   ]
  },
  {
   "cell_type": "code",
   "execution_count": 18,
   "id": "599884fd",
   "metadata": {},
   "outputs": [
    {
     "data": {
      "text/plain": [
       "Series([], dtype: int64)"
      ]
     },
     "execution_count": 18,
     "metadata": {},
     "output_type": "execute_result"
    }
   ],
   "source": [
    "check_missing(risk_train)"
   ]
  },
  {
   "cell_type": "markdown",
   "id": "0e2b3f8e",
   "metadata": {},
   "source": [
    "We were able to handle all missing values in the dataset.\n",
    "\n",
    "### Data Exploration\n",
    "\n",
    "The expiration date of the card (Z_CARD_VALID) is unlikely to have an association with the class variable. Let's visualize this to confirm whether or not this is true."
   ]
  },
  {
   "cell_type": "code",
   "execution_count": 19,
   "id": "6b3ca578",
   "metadata": {},
   "outputs": [],
   "source": [
    "risk_train['Z_CARD_VALID_YEAR'] = risk_train['Z_CARD_VALID'].astype(str).str[-4:]"
   ]
  },
  {
   "cell_type": "code",
   "execution_count": 20,
   "id": "0aa27cf8",
   "metadata": {},
   "outputs": [
    {
     "data": {
      "text/plain": [
       "<AxesSubplot:xlabel='Z_CARD_VALID_YEAR'>"
      ]
     },
     "execution_count": 20,
     "metadata": {},
     "output_type": "execute_result"
    },
    {
     "data": {
      "image/png": "[encoded data removed]",
      "text/plain": [
       "<Figure size 640x480 with 1 Axes>"
      ]
     },
     "metadata": {},
     "output_type": "display_data"
    }
   ],
   "source": [
    "risk_train.groupby(['Z_CARD_VALID_YEAR','CLASS']).size().unstack().plot(kind='bar')"
   ]
  },
  {
   "cell_type": "code",
   "execution_count": 21,
   "id": "1921bdc5",
   "metadata": {},
   "outputs": [],
   "source": [
    "risk_train['Z_CARD_VALID_MONTH'] = risk_train['Z_CARD_VALID'].astype(int).astype(str)"
   ]
  },
  {
   "cell_type": "code",
   "execution_count": 22,
   "id": "04eab977",
   "metadata": {},
   "outputs": [
    {
     "data": {
      "text/plain": [
       "<AxesSubplot:xlabel='Z_CARD_VALID_MONTH'>"
      ]
     },
     "execution_count": 22,
     "metadata": {},
     "output_type": "execute_result"
    },
    {
     "data": {
      "image/png": "[encoded data removed]",
      "text/plain": [
       "<Figure size 640x480 with 1 Axes>"
      ]
     },
     "metadata": {},
     "output_type": "display_data"
    }
   ],
   "source": [
    "risk_train.groupby(['Z_CARD_VALID_MONTH','CLASS']).size().unstack().plot(kind='bar')"
   ]
  },
  {
   "cell_type": "markdown",
   "id": "287e5e72",
   "metadata": {},
   "source": [
    "It looks like the class distribution is the same between the years and months so we will drop this column."
   ]
  },
  {
   "cell_type": "code",
   "execution_count": 23,
   "id": "5e9f0077",
   "metadata": {},
   "outputs": [],
   "source": [
    "risk_train = risk_train.drop(['Z_CARD_VALID', 'Z_CARD_VALID_YEAR', 'Z_CARD_VALID_MONTH'], axis=1)"
   ]
  },
  {
   "cell_type": "markdown",
   "id": "1c470a93",
   "metadata": {},
   "source": [
    "### Scaling the Data\n",
    "\n",
    "We will scale VALUE_ORDER and SESSION_TIME to ensure they do not dominate the model."
   ]
  },
  {
   "cell_type": "code",
   "execution_count": 163,
   "id": "876db3f1",
   "metadata": {},
   "outputs": [],
   "source": [
    "scaler = MinMaxScaler()\n",
    "risk_train[['VALUE_ORDER', 'SESSION_TIME']] = scaler.fit_transform(\n",
    "    risk_train[['VALUE_ORDER', 'SESSION_TIME']])"
   ]
  },
  {
   "cell_type": "markdown",
   "id": "0c4bc9a2",
   "metadata": {},
   "source": [
    "### Class Distribution\n",
    "\n",
    "There is a large inbalance between our majority and minority class as seen below:"
   ]
  },
  {
   "cell_type": "code",
   "execution_count": 133,
   "id": "02c7565d",
   "metadata": {},
   "outputs": [
    {
     "data": {
      "text/plain": [
       "<AxesSubplot:ylabel='CLASS'>"
      ]
     },
     "execution_count": 133,
     "metadata": {},
     "output_type": "execute_result"
    },
    {
     "data": {
      "image/png": "[encoded data removed]",
      "text/plain": [
       "<Figure size 640x480 with 1 Axes>"
      ]
     },
     "metadata": {},
     "output_type": "display_data"
    }
   ],
   "source": [
    "risk_train.CLASS.value_counts().plot.pie(autopct=\"%.2f\")"
   ]
  },
  {
   "cell_type": "markdown",
   "id": "c005498d",
   "metadata": {},
   "source": [
    "We will need to consider weights when we perform our model training.\n",
    "\n",
    "## Model Selection\n",
    "\n",
    "We will explore various models to fit the data. We need to consider the inbalance in our class distribution. For simplicity, we will start by using balanced class weights but we may need to specify our own weights to tune our selected model since we have different misclassification costs for low and high risk orders."
   ]
  },
  {
   "cell_type": "code",
   "execution_count": 164,
   "id": "d4c298ff",
   "metadata": {},
   "outputs": [],
   "source": [
    "def check_cost(cm):\n",
    "    # Gets the confusion matrix and calculates the misclassification cost\n",
    "    cost = cm[0][1]*5 + cm[1][0]*50 # False negative is more expensive\n",
    "    return cost"
   ]
  },
  {
   "cell_type": "markdown",
   "id": "a39618bf",
   "metadata": {},
   "source": [
    "#### Random Forest Model\n",
    "\n",
    "Let's train a random forest model and see the feature importances."
   ]
  },
  {
   "cell_type": "code",
   "execution_count": 135,
   "id": "f4fa3585",
   "metadata": {},
   "outputs": [
    {
     "data": {
      "text/plain": [
       "Index(['VALUE_ORDER', 'AMOUNT_ORDER', 'SESSION_TIME', 'CLASS_yes',\n",
       "       'B_EMAIL_yes', 'B_TELEFON_yes', 'FLAG_LRIDENTISCH_yes',\n",
       "       'FLAG_NEWSLETTER_yes', 'Z_METHODE_Eurocard', 'Z_METHODE_Visa',\n",
       "       'Z_METHODE_check', 'Z_METHODE_debit_card', 'Z_METHODE_debit_note',\n",
       "       'WEEKDAY_ORDER_Monday', 'WEEKDAY_ORDER_Saturday',\n",
       "       'WEEKDAY_ORDER_Sunday', 'WEEKDAY_ORDER_Thursday',\n",
       "       'WEEKDAY_ORDER_Tuesday', 'WEEKDAY_ORDER_Wednesday', 'CHK_LADR_yes',\n",
       "       'CHK_RADR_yes', 'CHK_KTO_yes', 'CHK_CARD_yes', 'CHK_COOKIE_yes',\n",
       "       'CHK_IP_yes', 'FAIL_LPLZ_yes', 'FAIL_LORT_yes', 'FAIL_LPLZORTMATCH_yes',\n",
       "       'FAIL_RPLZ_yes', 'FAIL_RORT_yes', 'FAIL_RPLZORTMATCH_yes',\n",
       "       'NEUKUNDE_yes'],\n",
       "      dtype='object')"
      ]
     },
     "execution_count": 135,
     "metadata": {},
     "output_type": "execute_result"
    }
   ],
   "source": [
    "risk_train_dummies = pd.get_dummies(risk_train, drop_first=True)\n",
    "risk_train_dummies.columns"
   ]
  },
  {
   "cell_type": "code",
   "execution_count": 136,
   "id": "ee1f6c8f",
   "metadata": {},
   "outputs": [],
   "source": [
    "X = risk_train_dummies.drop('CLASS_yes', axis=1)\n",
    "y = risk_train_dummies['CLASS_yes']\n",
    "# Split the data 80%-20% into training and test sets\n",
    "X_train, X_test, y_train, y_test = train_test_split(X, y, \n",
    "                                                    stratify=y, \n",
    "                                                    test_size=0.2, \n",
    "                                                    random_state=0)"
   ]
  },
  {
   "cell_type": "code",
   "execution_count": 179,
   "id": "ed1b0834",
   "metadata": {},
   "outputs": [
    {
     "data": {
      "text/plain": [
       "RandomForestClassifier(class_weight='balanced', min_samples_split=10,\n",
       "                       n_estimators=150, random_state=0)"
      ]
     },
     "execution_count": 179,
     "metadata": {},
     "output_type": "execute_result"
    }
   ],
   "source": [
    "rf_model = RandomForestClassifier(n_estimators=150, \n",
    "                                  class_weight = 'balanced', \n",
    "                                  min_samples_split = 10, \n",
    "                                  random_state=0)\n",
    "rf_model.fit(X_train, y_train)"
   ]
  },
  {
   "cell_type": "code",
   "execution_count": 180,
   "id": "2820156c",
   "metadata": {},
   "outputs": [
    {
     "data": {
      "text/plain": [
       "0.9078333333333334"
      ]
     },
     "execution_count": 180,
     "metadata": {},
     "output_type": "execute_result"
    }
   ],
   "source": [
    "y_pred_rf = rf_model.predict(X_test)\n",
    "\n",
    "accuracy_score(y_test, y_pred_rf)"
   ]
  },
  {
   "cell_type": "code",
   "execution_count": 181,
   "id": "3e35dfb7",
   "metadata": {},
   "outputs": [
    {
     "data": {
      "text/html": [
       "<div>\n",
       "<style scoped>\n",
       "    .dataframe tbody tr th:only-of-type {\n",
       "        vertical-align: middle;\n",
       "    }\n",
       "\n",
       "    .dataframe tbody tr th {\n",
       "        vertical-align: top;\n",
       "    }\n",
       "\n",
       "    .dataframe thead th {\n",
       "        text-align: right;\n",
       "    }\n",
       "</style>\n",
       "<table border=\"1\" class=\"dataframe\">\n",
       "  <thead>\n",
       "    <tr style=\"text-align: right;\">\n",
       "      <th></th>\n",
       "      <th>feature</th>\n",
       "      <th>importance</th>\n",
       "    </tr>\n",
       "  </thead>\n",
       "  <tbody>\n",
       "    <tr>\n",
       "      <th>0</th>\n",
       "      <td>VALUE_ORDER</td>\n",
       "      <td>0.290539</td>\n",
       "    </tr>\n",
       "    <tr>\n",
       "      <th>2</th>\n",
       "      <td>SESSION_TIME</td>\n",
       "      <td>0.211717</td>\n",
       "    </tr>\n",
       "    <tr>\n",
       "      <th>30</th>\n",
       "      <td>NEUKUNDE_yes</td>\n",
       "      <td>0.064356</td>\n",
       "    </tr>\n",
       "    <tr>\n",
       "      <th>1</th>\n",
       "      <td>AMOUNT_ORDER</td>\n",
       "      <td>0.047989</td>\n",
       "    </tr>\n",
       "    <tr>\n",
       "      <th>3</th>\n",
       "      <td>B_EMAIL_yes</td>\n",
       "      <td>0.047231</td>\n",
       "    </tr>\n",
       "    <tr>\n",
       "      <th>4</th>\n",
       "      <td>B_TELEFON_yes</td>\n",
       "      <td>0.027541</td>\n",
       "    </tr>\n",
       "    <tr>\n",
       "      <th>18</th>\n",
       "      <td>CHK_LADR_yes</td>\n",
       "      <td>0.025930</td>\n",
       "    </tr>\n",
       "    <tr>\n",
       "      <th>5</th>\n",
       "      <td>FLAG_LRIDENTISCH_yes</td>\n",
       "      <td>0.023415</td>\n",
       "    </tr>\n",
       "    <tr>\n",
       "      <th>13</th>\n",
       "      <td>WEEKDAY_ORDER_Saturday</td>\n",
       "      <td>0.020637</td>\n",
       "    </tr>\n",
       "    <tr>\n",
       "      <th>14</th>\n",
       "      <td>WEEKDAY_ORDER_Sunday</td>\n",
       "      <td>0.020623</td>\n",
       "    </tr>\n",
       "    <tr>\n",
       "      <th>17</th>\n",
       "      <td>WEEKDAY_ORDER_Wednesday</td>\n",
       "      <td>0.019287</td>\n",
       "    </tr>\n",
       "    <tr>\n",
       "      <th>9</th>\n",
       "      <td>Z_METHODE_check</td>\n",
       "      <td>0.018556</td>\n",
       "    </tr>\n",
       "    <tr>\n",
       "      <th>7</th>\n",
       "      <td>Z_METHODE_Eurocard</td>\n",
       "      <td>0.017784</td>\n",
       "    </tr>\n",
       "    <tr>\n",
       "      <th>12</th>\n",
       "      <td>WEEKDAY_ORDER_Monday</td>\n",
       "      <td>0.017660</td>\n",
       "    </tr>\n",
       "    <tr>\n",
       "      <th>15</th>\n",
       "      <td>WEEKDAY_ORDER_Thursday</td>\n",
       "      <td>0.017072</td>\n",
       "    </tr>\n",
       "    <tr>\n",
       "      <th>8</th>\n",
       "      <td>Z_METHODE_Visa</td>\n",
       "      <td>0.015245</td>\n",
       "    </tr>\n",
       "    <tr>\n",
       "      <th>11</th>\n",
       "      <td>Z_METHODE_debit_note</td>\n",
       "      <td>0.015228</td>\n",
       "    </tr>\n",
       "    <tr>\n",
       "      <th>16</th>\n",
       "      <td>WEEKDAY_ORDER_Tuesday</td>\n",
       "      <td>0.015061</td>\n",
       "    </tr>\n",
       "    <tr>\n",
       "      <th>6</th>\n",
       "      <td>FLAG_NEWSLETTER_yes</td>\n",
       "      <td>0.011650</td>\n",
       "    </tr>\n",
       "    <tr>\n",
       "      <th>10</th>\n",
       "      <td>Z_METHODE_debit_card</td>\n",
       "      <td>0.010879</td>\n",
       "    </tr>\n",
       "    <tr>\n",
       "      <th>28</th>\n",
       "      <td>FAIL_RORT_yes</td>\n",
       "      <td>0.008967</td>\n",
       "    </tr>\n",
       "    <tr>\n",
       "      <th>25</th>\n",
       "      <td>FAIL_LORT_yes</td>\n",
       "      <td>0.007877</td>\n",
       "    </tr>\n",
       "    <tr>\n",
       "      <th>23</th>\n",
       "      <td>CHK_IP_yes</td>\n",
       "      <td>0.007359</td>\n",
       "    </tr>\n",
       "    <tr>\n",
       "      <th>22</th>\n",
       "      <td>CHK_COOKIE_yes</td>\n",
       "      <td>0.007009</td>\n",
       "    </tr>\n",
       "    <tr>\n",
       "      <th>19</th>\n",
       "      <td>CHK_RADR_yes</td>\n",
       "      <td>0.005778</td>\n",
       "    </tr>\n",
       "    <tr>\n",
       "      <th>27</th>\n",
       "      <td>FAIL_RPLZ_yes</td>\n",
       "      <td>0.005637</td>\n",
       "    </tr>\n",
       "    <tr>\n",
       "      <th>29</th>\n",
       "      <td>FAIL_RPLZORTMATCH_yes</td>\n",
       "      <td>0.004911</td>\n",
       "    </tr>\n",
       "    <tr>\n",
       "      <th>24</th>\n",
       "      <td>FAIL_LPLZ_yes</td>\n",
       "      <td>0.004615</td>\n",
       "    </tr>\n",
       "    <tr>\n",
       "      <th>26</th>\n",
       "      <td>FAIL_LPLZORTMATCH_yes</td>\n",
       "      <td>0.003828</td>\n",
       "    </tr>\n",
       "    <tr>\n",
       "      <th>20</th>\n",
       "      <td>CHK_KTO_yes</td>\n",
       "      <td>0.002870</td>\n",
       "    </tr>\n",
       "    <tr>\n",
       "      <th>21</th>\n",
       "      <td>CHK_CARD_yes</td>\n",
       "      <td>0.002748</td>\n",
       "    </tr>\n",
       "  </tbody>\n",
       "</table>\n",
       "</div>"
      ],
      "text/plain": [
       "                    feature  importance\n",
       "0               VALUE_ORDER    0.290539\n",
       "2              SESSION_TIME    0.211717\n",
       "30             NEUKUNDE_yes    0.064356\n",
       "1              AMOUNT_ORDER    0.047989\n",
       "3               B_EMAIL_yes    0.047231\n",
       "4             B_TELEFON_yes    0.027541\n",
       "18             CHK_LADR_yes    0.025930\n",
       "5      FLAG_LRIDENTISCH_yes    0.023415\n",
       "13   WEEKDAY_ORDER_Saturday    0.020637\n",
       "14     WEEKDAY_ORDER_Sunday    0.020623\n",
       "17  WEEKDAY_ORDER_Wednesday    0.019287\n",
       "9           Z_METHODE_check    0.018556\n",
       "7        Z_METHODE_Eurocard    0.017784\n",
       "12     WEEKDAY_ORDER_Monday    0.017660\n",
       "15   WEEKDAY_ORDER_Thursday    0.017072\n",
       "8            Z_METHODE_Visa    0.015245\n",
       "11     Z_METHODE_debit_note    0.015228\n",
       "16    WEEKDAY_ORDER_Tuesday    0.015061\n",
       "6       FLAG_NEWSLETTER_yes    0.011650\n",
       "10     Z_METHODE_debit_card    0.010879\n",
       "28            FAIL_RORT_yes    0.008967\n",
       "25            FAIL_LORT_yes    0.007877\n",
       "23               CHK_IP_yes    0.007359\n",
       "22           CHK_COOKIE_yes    0.007009\n",
       "19             CHK_RADR_yes    0.005778\n",
       "27            FAIL_RPLZ_yes    0.005637\n",
       "29    FAIL_RPLZORTMATCH_yes    0.004911\n",
       "24            FAIL_LPLZ_yes    0.004615\n",
       "26    FAIL_LPLZORTMATCH_yes    0.003828\n",
       "20              CHK_KTO_yes    0.002870\n",
       "21             CHK_CARD_yes    0.002748"
      ]
     },
     "execution_count": 181,
     "metadata": {},
     "output_type": "execute_result"
    }
   ],
   "source": [
    "# Check important features\n",
    "feature_importances_df = pd.DataFrame({\"feature\": list(X.columns), \"importance\": rf_model.feature_importances_})\n",
    "feature_importances_df.sort_values(\"importance\", ascending=False, inplace=True)\n",
    "\n",
    "feature_importances_df"
   ]
  },
  {
   "cell_type": "code",
   "execution_count": 182,
   "id": "c4524979",
   "metadata": {},
   "outputs": [
    {
     "name": "stdout",
     "output_type": "stream",
     "text": [
      "              precision    recall  f1-score   support\n",
      "\n",
      "           0       0.95      0.95      0.95      5651\n",
      "           1       0.17      0.15      0.16       349\n",
      "\n",
      "    accuracy                           0.91      6000\n",
      "   macro avg       0.56      0.55      0.55      6000\n",
      "weighted avg       0.90      0.91      0.90      6000\n",
      "\n",
      "[[5396  255]\n",
      " [ 298   51]]\n"
     ]
    }
   ],
   "source": [
    "print(classification_report(y_test, y_pred_rf))\n",
    "\n",
    "cm = confusion_matrix(y_test, y_pred_rf)\n",
    "print(cm)"
   ]
  },
  {
   "cell_type": "code",
   "execution_count": 183,
   "id": "71d81abc",
   "metadata": {},
   "outputs": [
    {
     "data": {
      "text/plain": [
       "16175"
      ]
     },
     "execution_count": 183,
     "metadata": {},
     "output_type": "execute_result"
    }
   ],
   "source": [
    "check_cost(cm)"
   ]
  },
  {
   "cell_type": "markdown",
   "id": "4dbe48f1",
   "metadata": {},
   "source": [
    "#### XGBoost Model"
   ]
  },
  {
   "cell_type": "code",
   "execution_count": 170,
   "id": "2da97d7d",
   "metadata": {},
   "outputs": [
    {
     "data": {
      "text/plain": [
       "XGBClassifier(base_score=None, booster=None, callbacks=None,\n",
       "              colsample_bylevel=None, colsample_bynode=None,\n",
       "              colsample_bytree=None, early_stopping_rounds=None,\n",
       "              enable_categorical=False, eval_metric=None, feature_types=None,\n",
       "              gamma=None, gpu_id=None, grow_policy=None, importance_type=None,\n",
       "              interaction_constraints=None, learning_rate=None, max_bin=None,\n",
       "              max_cat_threshold=None, max_cat_to_onehot=None,\n",
       "              max_delta_step=None, max_depth=None, max_leaves=None,\n",
       "              min_child_weight=None, missing=nan, monotone_constraints=None,\n",
       "              n_estimators=100, n_jobs=None, num_parallel_tree=None,\n",
       "              predictor=None, random_state=0, ...)"
      ]
     },
     "execution_count": 170,
     "metadata": {},
     "output_type": "execute_result"
    }
   ],
   "source": [
    "model_xgb = XGBClassifier(random_state=0, scale_pos_weight = 10, )\n",
    "model_xgb.fit(X_train, y_train)"
   ]
  },
  {
   "cell_type": "code",
   "execution_count": 171,
   "id": "7e7d8c8f",
   "metadata": {},
   "outputs": [
    {
     "name": "stdout",
     "output_type": "stream",
     "text": [
      "[[5048  603]\n",
      " [ 236  113]]\n"
     ]
    }
   ],
   "source": [
    "y_pred_xgb = model_xgb.predict(X_test)\n",
    "cm = confusion_matrix(y_test, y_pred_xgb)\n",
    "print(cm)"
   ]
  },
  {
   "cell_type": "code",
   "execution_count": 172,
   "id": "a8655fa9",
   "metadata": {},
   "outputs": [
    {
     "name": "stdout",
     "output_type": "stream",
     "text": [
      "              precision    recall  f1-score   support\n",
      "\n",
      "           0       0.96      0.89      0.92      5651\n",
      "           1       0.16      0.32      0.21       349\n",
      "\n",
      "    accuracy                           0.86      6000\n",
      "   macro avg       0.56      0.61      0.57      6000\n",
      "weighted avg       0.91      0.86      0.88      6000\n",
      "\n"
     ]
    }
   ],
   "source": [
    "print(classification_report(y_test, y_pred_xgb))"
   ]
  },
  {
   "cell_type": "code",
   "execution_count": 173,
   "id": "be790c5e",
   "metadata": {},
   "outputs": [
    {
     "data": {
      "text/plain": [
       "14815"
      ]
     },
     "execution_count": 173,
     "metadata": {},
     "output_type": "execute_result"
    }
   ],
   "source": [
    "check_cost(cm)"
   ]
  },
  {
   "cell_type": "markdown",
   "id": "f8ebf7c4",
   "metadata": {},
   "source": [
    "#### Logistic Regression Model"
   ]
  },
  {
   "cell_type": "code",
   "execution_count": 145,
   "id": "37994023",
   "metadata": {},
   "outputs": [
    {
     "data": {
      "text/plain": [
       "LogisticRegression(class_weight='balanced', n_jobs=-1, random_state=0)"
      ]
     },
     "execution_count": 145,
     "metadata": {},
     "output_type": "execute_result"
    }
   ],
   "source": [
    "log_model = LogisticRegression(class_weight='balanced', random_state=0, n_jobs=-1)\n",
    "log_model.fit(X_train, y_train)"
   ]
  },
  {
   "cell_type": "code",
   "execution_count": 146,
   "id": "bc127e49",
   "metadata": {},
   "outputs": [
    {
     "name": "stdout",
     "output_type": "stream",
     "text": [
      "[[3675 1976]\n",
      " [ 101  248]]\n"
     ]
    }
   ],
   "source": [
    "y_pred_lr = log_model.predict(X_test)\n",
    "cm = confusion_matrix(y_test, y_pred_lr)\n",
    "print(cm)"
   ]
  },
  {
   "cell_type": "code",
   "execution_count": 147,
   "id": "c35ac385",
   "metadata": {},
   "outputs": [
    {
     "name": "stdout",
     "output_type": "stream",
     "text": [
      "              precision    recall  f1-score   support\n",
      "\n",
      "           0       0.97      0.65      0.78      5651\n",
      "           1       0.11      0.71      0.19       349\n",
      "\n",
      "    accuracy                           0.65      6000\n",
      "   macro avg       0.54      0.68      0.49      6000\n",
      "weighted avg       0.92      0.65      0.75      6000\n",
      "\n"
     ]
    }
   ],
   "source": [
    "print(classification_report(y_test, y_pred_lr))"
   ]
  },
  {
   "cell_type": "code",
   "execution_count": 148,
   "id": "9433144e",
   "metadata": {},
   "outputs": [
    {
     "data": {
      "text/plain": [
       "14930"
      ]
     },
     "execution_count": 148,
     "metadata": {},
     "output_type": "execute_result"
    }
   ],
   "source": [
    "check_cost(cm)"
   ]
  },
  {
   "cell_type": "markdown",
   "id": "53a75edf",
   "metadata": {},
   "source": [
    "The accuracy for the logistic regression model is lower, but since the class is inbalanced the tree models tend to classify most predictions as the majority (low risk). The accuracy score is misleading because we have such a low f1 score on the high risk group."
   ]
  },
  {
   "cell_type": "markdown",
   "id": "b944e752",
   "metadata": {},
   "source": [
    "#### SVC Model"
   ]
  },
  {
   "cell_type": "code",
   "execution_count": 149,
   "id": "0a5c1a0f",
   "metadata": {},
   "outputs": [],
   "source": [
    "svc_model = SVC(class_weight='balanced', random_state=0)"
   ]
  },
  {
   "cell_type": "code",
   "execution_count": 150,
   "id": "68c378b2",
   "metadata": {},
   "outputs": [
    {
     "data": {
      "text/plain": [
       "SVC(class_weight='balanced', random_state=0)"
      ]
     },
     "execution_count": 150,
     "metadata": {},
     "output_type": "execute_result"
    }
   ],
   "source": [
    "svc_model.fit(X_train, y_train)"
   ]
  },
  {
   "cell_type": "code",
   "execution_count": 151,
   "id": "c7d380a9",
   "metadata": {},
   "outputs": [],
   "source": [
    "y_pred_svc = svc_model.predict(X_test)"
   ]
  },
  {
   "cell_type": "code",
   "execution_count": 152,
   "id": "a01fc88a",
   "metadata": {},
   "outputs": [
    {
     "name": "stdout",
     "output_type": "stream",
     "text": [
      "              precision    recall  f1-score   support\n",
      "\n",
      "           0       0.97      0.65      0.78      5651\n",
      "           1       0.11      0.69      0.19       349\n",
      "\n",
      "    accuracy                           0.65      6000\n",
      "   macro avg       0.54      0.67      0.48      6000\n",
      "weighted avg       0.92      0.65      0.74      6000\n",
      "\n",
      "[[3655 1996]\n",
      " [ 107  242]]\n"
     ]
    }
   ],
   "source": [
    "print(classification_report(y_test, y_pred_svc))\n",
    "\n",
    "cm = confusion_matrix(y_test, y_pred_svc)\n",
    "print(cm)"
   ]
  },
  {
   "cell_type": "code",
   "execution_count": 153,
   "id": "84610198",
   "metadata": {},
   "outputs": [
    {
     "data": {
      "text/plain": [
       "15330"
      ]
     },
     "execution_count": 153,
     "metadata": {},
     "output_type": "execute_result"
    }
   ],
   "source": [
    "check_cost(cm)"
   ]
  },
  {
   "cell_type": "markdown",
   "id": "0c4fe4f6",
   "metadata": {},
   "source": [
    "Introducing bias to ensure more instances are classified as high risk sacrificed our accuracy scores but seemed to improve F1-scores and reduced cost. Although it had the highest accuracy, the random forest model is sensitive to class inbalance so we will choose to work with a logistic regression or SVC model."
   ]
  },
  {
   "cell_type": "markdown",
   "id": "7dbd3bcc",
   "metadata": {},
   "source": [
    "## Tuning Class Weights\n",
    "\n",
    "Let's try different hyperparameter values and compare SVC with Logistic Regression"
   ]
  },
  {
   "cell_type": "code",
   "execution_count": 154,
   "id": "1531ce5e",
   "metadata": {},
   "outputs": [
    {
     "data": {
      "text/plain": [
       "LogisticRegression(class_weight={0: 1, 1: 10}, n_jobs=-1, random_state=0)"
      ]
     },
     "execution_count": 154,
     "metadata": {},
     "output_type": "execute_result"
    }
   ],
   "source": [
    "log_model1 = LogisticRegression(class_weight={0:1, 1:10}, random_state=0, n_jobs=-1)\n",
    "log_model1.fit(X_train, y_train)"
   ]
  },
  {
   "cell_type": "code",
   "execution_count": 155,
   "id": "3081b0f4",
   "metadata": {},
   "outputs": [
    {
     "name": "stdout",
     "output_type": "stream",
     "text": [
      "[[4791  860]\n",
      " [ 186  163]]\n"
     ]
    }
   ],
   "source": [
    "y_pred_lr = log_model1.predict(X_test)\n",
    "cm = confusion_matrix(y_test, y_pred_lr)\n",
    "print(cm)"
   ]
  },
  {
   "cell_type": "code",
   "execution_count": 156,
   "id": "da752b26",
   "metadata": {},
   "outputs": [
    {
     "name": "stdout",
     "output_type": "stream",
     "text": [
      "              precision    recall  f1-score   support\n",
      "\n",
      "           0       0.96      0.85      0.90      5651\n",
      "           1       0.16      0.47      0.24       349\n",
      "\n",
      "    accuracy                           0.83      6000\n",
      "   macro avg       0.56      0.66      0.57      6000\n",
      "weighted avg       0.92      0.83      0.86      6000\n",
      "\n"
     ]
    }
   ],
   "source": [
    "print(classification_report(y_test, y_pred_lr))"
   ]
  },
  {
   "cell_type": "code",
   "execution_count": 157,
   "id": "94c75ee6",
   "metadata": {},
   "outputs": [
    {
     "data": {
      "text/plain": [
       "13600"
      ]
     },
     "execution_count": 157,
     "metadata": {},
     "output_type": "execute_result"
    }
   ],
   "source": [
    "check_cost(cm)"
   ]
  },
  {
   "cell_type": "markdown",
   "id": "05e328d6",
   "metadata": {},
   "source": [
    "With a class weight ratio of 1 to 10, we were able to increase the F1 score."
   ]
  },
  {
   "cell_type": "code",
   "execution_count": 158,
   "id": "dcd4949a",
   "metadata": {},
   "outputs": [],
   "source": [
    "svc_model = SVC(class_weight={0:1, 1:11}, random_state=0, probability=True)"
   ]
  },
  {
   "cell_type": "code",
   "execution_count": 159,
   "id": "5b017796",
   "metadata": {},
   "outputs": [],
   "source": [
    "svc_model.fit(X_train, y_train)\n",
    "y_pred_svc = svc_model.predict(X_test)"
   ]
  },
  {
   "cell_type": "code",
   "execution_count": 160,
   "id": "22b7d408",
   "metadata": {},
   "outputs": [
    {
     "name": "stdout",
     "output_type": "stream",
     "text": [
      "              precision    recall  f1-score   support\n",
      "\n",
      "           0       0.96      0.85      0.90      5651\n",
      "           1       0.15      0.44      0.23       349\n",
      "\n",
      "    accuracy                           0.83      6000\n",
      "   macro avg       0.56      0.65      0.57      6000\n",
      "weighted avg       0.91      0.83      0.86      6000\n",
      "\n",
      "[[4909  742]\n",
      " [ 217  132]]\n"
     ]
    }
   ],
   "source": [
    "print(classification_report(y_test, y_pred))\n",
    "\n",
    "cm = confusion_matrix(y_test, y_pred_svc)\n",
    "print(cm)"
   ]
  },
  {
   "cell_type": "code",
   "execution_count": 161,
   "id": "1974db91",
   "metadata": {},
   "outputs": [
    {
     "data": {
      "text/plain": [
       "14560"
      ]
     },
     "execution_count": 161,
     "metadata": {},
     "output_type": "execute_result"
    }
   ],
   "source": [
    "check_cost(cm)"
   ]
  },
  {
   "cell_type": "markdown",
   "id": "f7fb0caf",
   "metadata": {},
   "source": [
    "The logistic regression and SVC models have relatively similar performance. We tested weight ratios of 1:10, 1:11, and 1:12 which seemed to give us the lowest costs without sacrificing too much in the f1 score."
   ]
  },
  {
   "cell_type": "markdown",
   "id": "b5c4c149",
   "metadata": {},
   "source": [
    "### ROC and AUC"
   ]
  },
  {
   "cell_type": "code",
   "execution_count": 184,
   "id": "d73c0b64",
   "metadata": {},
   "outputs": [
    {
     "data": {
      "image/png": "[encoded data removed]",
      "text/plain": [
       "<Figure size 640x480 with 1 Axes>"
      ]
     },
     "metadata": {},
     "output_type": "display_data"
    }
   ],
   "source": [
    "plt.plot([0, 1], [0, 1],'r--')\n",
    "\n",
    "# Random forest\n",
    "prob_rf = rf_model.predict_proba(X_test)\n",
    "fpr, tpr, thresh = roc_curve(y_test, prob_rf[:,1])\n",
    "aucrf = roc_auc_score(y_test, prob_rf[:,1])\n",
    "plt.plot(fpr, tpr, label=f'Random Forest, AUC = {str(round(aucrf,3))}')\n",
    "# Logistic regression\n",
    "prob_log = log_model1.predict_proba(X_test)\n",
    "fpr, tpr, thresh = roc_curve(y_test, prob_log[:,1])\n",
    "auclog = roc_auc_score(y_test, prob_log[:,1])\n",
    "plt.plot(fpr, tpr, label=f'Logistic Regression, AUC = {str(round(auclog,3))}')\n",
    "# SVC\n",
    "prob_svc = svc_model.predict_proba(X_test)\n",
    "fpr, tpr, thresh = roc_curve(y_test, prob_svc[:,1])\n",
    "aucsvc = roc_auc_score(y_test, prob_svc[:,1])\n",
    "plt.plot(fpr, tpr, label=f'SVC, AUC = {str(round(aucsvc,3))}')\n",
    "\n",
    "prob_xgb = model_xgb.predict_proba(X_test)\n",
    "fpr, tpr, thresh = roc_curve(y_test, prob_xgb[:,1])\n",
    "aucxgb = roc_auc_score(y_test, prob_xgb[:,1])\n",
    "plt.plot(fpr, tpr, label=f'XGB, AUC = {str(round(aucxgb,3))}')\n",
    "\n",
    "plt.ylabel(\"True Positive Rate\")\n",
    "plt.xlabel(\"False Positive Rate\")\n",
    "plt.title(\"ROC curve\")\n",
    "plt.legend()\n",
    "plt.show()"
   ]
  },
  {
   "cell_type": "markdown",
   "id": "d634b7da",
   "metadata": {},
   "source": [
    "Logistic regression has the highest AUC value so we will select this model to perform our classification on the incoming purchase orders."
   ]
  }
 ],
 "metadata": {
  "kernelspec": {
   "display_name": "Python 3 (ipykernel)",
   "language": "python",
   "name": "python3"
  },
  "language_info": {
   "codemirror_mode": {
    "name": "ipython",
    "version": 3
   },
   "file_extension": ".py",
   "mimetype": "text/x-python",
   "name": "python",
   "nbconvert_exporter": "python",
   "pygments_lexer": "ipython3",
   "version": "3.9.13"
  }
 },
 "nbformat": 4,
 "nbformat_minor": 5
}
