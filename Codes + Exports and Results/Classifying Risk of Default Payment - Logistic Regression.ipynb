{
 "cells": [
  {
   "cell_type": "markdown",
   "id": "401d6982",
   "metadata": {},
   "source": [
    "# Classifying the Risk of Default Payments of Purchases for an Online Trader\n",
    "\n",
    "Name: Terry Lay\n",
    "\n",
    "Student Number: N01601584"
   ]
  },
  {
   "cell_type": "code",
   "execution_count": 1,
   "id": "45d433ba",
   "metadata": {},
   "outputs": [],
   "source": [
    "import pandas as pd\n",
    "from sklearn.linear_model import LogisticRegression\n",
    "from sklearn.metrics import classification_report, confusion_matrix"
   ]
  },
  {
   "cell_type": "markdown",
   "id": "f952d26d",
   "metadata": {},
   "source": [
    "## Model Training\n",
    "\n",
    "### Importing the training data"
   ]
  },
  {
   "cell_type": "code",
   "execution_count": 2,
   "id": "311bd793",
   "metadata": {},
   "outputs": [],
   "source": [
    "training = pd.read_csv('training-set.csv')\n",
    "training = training.drop(['ORDER_ID'], axis=1)"
   ]
  },
  {
   "cell_type": "code",
   "execution_count": 3,
   "id": "4f77f780",
   "metadata": {},
   "outputs": [
    {
     "data": {
      "text/plain": [
       "Index(['VALUE_ORDER', 'AMOUNT_ORDER', 'SESSION_TIME', 'CLASS_yes',\n",
       "       'B_EMAIL_yes', 'B_TELEFON_yes', 'FLAG_LRIDENTISCH_yes',\n",
       "       'FLAG_NEWSLETTER_yes', 'Z_METHODE_Eurocard', 'Z_METHODE_Visa',\n",
       "       'Z_METHODE_check', 'Z_METHODE_debit_card', 'Z_METHODE_debit_note',\n",
       "       'WEEKDAY_ORDER_Monday', 'WEEKDAY_ORDER_Saturday',\n",
       "       'WEEKDAY_ORDER_Sunday', 'WEEKDAY_ORDER_Thursday',\n",
       "       'WEEKDAY_ORDER_Tuesday', 'WEEKDAY_ORDER_Wednesday', 'CHK_LADR_yes',\n",
       "       'CHK_RADR_yes', 'CHK_KTO_yes', 'CHK_CARD_yes', 'CHK_COOKIE_yes',\n",
       "       'CHK_IP_yes', 'FAIL_LPLZ_yes', 'FAIL_LORT_yes', 'FAIL_LPLZORTMATCH_yes',\n",
       "       'FAIL_RPLZ_yes', 'FAIL_RORT_yes', 'FAIL_RPLZORTMATCH_yes',\n",
       "       'NEUKUNDE_yes'],\n",
       "      dtype='object')"
      ]
     },
     "execution_count": 3,
     "metadata": {},
     "output_type": "execute_result"
    }
   ],
   "source": [
    "training.columns"
   ]
  },
  {
   "cell_type": "markdown",
   "id": "b652012a",
   "metadata": {},
   "source": [
    "### Fitting a Logistic Regression Model"
   ]
  },
  {
   "cell_type": "code",
   "execution_count": 4,
   "id": "53581270",
   "metadata": {},
   "outputs": [],
   "source": [
    "X_train = training.drop('CLASS_yes', axis=1)\n",
    "y_train = training['CLASS_yes']"
   ]
  },
  {
   "cell_type": "code",
   "execution_count": 5,
   "id": "2150864b",
   "metadata": {},
   "outputs": [],
   "source": [
    "log_model = LogisticRegression(class_weight={0:1, 1:10}, random_state=0, n_jobs=-1)"
   ]
  },
  {
   "cell_type": "code",
   "execution_count": 6,
   "id": "37e1da75",
   "metadata": {},
   "outputs": [
    {
     "data": {
      "text/plain": [
       "LogisticRegression(class_weight={0: 1, 1: 10}, n_jobs=-1, random_state=0)"
      ]
     },
     "execution_count": 6,
     "metadata": {},
     "output_type": "execute_result"
    }
   ],
   "source": [
    "log_model.fit(X_train, y_train)"
   ]
  },
  {
   "cell_type": "code",
   "execution_count": 7,
   "id": "82daac05",
   "metadata": {},
   "outputs": [
    {
     "name": "stdout",
     "output_type": "stream",
     "text": [
      "[[23670  4584]\n",
      " [  869   877]]\n"
     ]
    }
   ],
   "source": [
    "y_pred = log_model.predict(X_train)\n",
    "cm = confusion_matrix(y_train, y_pred)\n",
    "print(cm)"
   ]
  },
  {
   "cell_type": "code",
   "execution_count": 8,
   "id": "fae89704",
   "metadata": {},
   "outputs": [
    {
     "name": "stdout",
     "output_type": "stream",
     "text": [
      "              precision    recall  f1-score   support\n",
      "\n",
      "           0       0.96      0.84      0.90     28254\n",
      "           1       0.16      0.50      0.24      1746\n",
      "\n",
      "    accuracy                           0.82     30000\n",
      "   macro avg       0.56      0.67      0.57     30000\n",
      "weighted avg       0.92      0.82      0.86     30000\n",
      "\n"
     ]
    }
   ],
   "source": [
    "print(classification_report(y_train, y_pred))"
   ]
  },
  {
   "cell_type": "markdown",
   "id": "60987b7e",
   "metadata": {},
   "source": [
    "## Classifying the Test Data\n",
    "\n",
    "### Importing the Data"
   ]
  },
  {
   "cell_type": "code",
   "execution_count": 9,
   "id": "8c4d5a08",
   "metadata": {},
   "outputs": [],
   "source": [
    "testing = pd.read_csv('testing-set.csv')\n",
    "X_test = testing.drop('ORDER_ID', axis=1)"
   ]
  },
  {
   "cell_type": "code",
   "execution_count": 10,
   "id": "474b7c7e",
   "metadata": {},
   "outputs": [],
   "source": [
    "predictions = log_model.predict(X_test)"
   ]
  },
  {
   "cell_type": "code",
   "execution_count": 11,
   "id": "1c9fa539",
   "metadata": {},
   "outputs": [],
   "source": [
    "testing['CLASS'] = predictions\n",
    "testing.loc[testing.CLASS == 0, 'CLASS'] = 'no'\n",
    "testing.loc[testing.CLASS == 1, 'CLASS'] = 'yes'"
   ]
  },
  {
   "cell_type": "code",
   "execution_count": 12,
   "id": "4d08b7d4",
   "metadata": {},
   "outputs": [],
   "source": [
    "testing = testing.rename(columns={'ORDER_ID':'ORDER-ID'})"
   ]
  },
  {
   "cell_type": "code",
   "execution_count": 13,
   "id": "d763e7d6",
   "metadata": {},
   "outputs": [],
   "source": [
    "result = testing[['ORDER-ID', 'CLASS']]"
   ]
  },
  {
   "cell_type": "code",
   "execution_count": 14,
   "id": "6bc5954a",
   "metadata": {},
   "outputs": [],
   "source": [
    "result.to_csv('classification-result.txt', index=False, sep='\\t')"
   ]
  }
 ],
 "metadata": {
  "kernelspec": {
   "display_name": "Python 3 (ipykernel)",
   "language": "python",
   "name": "python3"
  },
  "language_info": {
   "codemirror_mode": {
    "name": "ipython",
    "version": 3
   },
   "file_extension": ".py",
   "mimetype": "text/x-python",
   "name": "python",
   "nbconvert_exporter": "python",
   "pygments_lexer": "ipython3",
   "version": "3.9.13"
  }
 },
 "nbformat": 4,
 "nbformat_minor": 5
}
