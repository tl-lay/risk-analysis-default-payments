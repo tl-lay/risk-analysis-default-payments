{
 "cells": [
  {
   "cell_type": "markdown",
   "id": "a5955cf7",
   "metadata": {},
   "source": [
    "# Classifying the Risk of Default Payments of Purchases for an Online Trader\n",
    "\n",
    "# Data Preparation\n",
    "\n",
    "Name: Terry Lay\n",
    "\n",
    "Student Number: N01601584"
   ]
  },
  {
   "cell_type": "code",
   "execution_count": 1,
   "id": "54f8b3f7",
   "metadata": {},
   "outputs": [],
   "source": [
    "import pandas as pd\n",
    "from sklearn.preprocessing import MinMaxScaler"
   ]
  },
  {
   "cell_type": "markdown",
   "id": "9b2e19dd",
   "metadata": {},
   "source": [
    "## Importing the Data"
   ]
  },
  {
   "cell_type": "code",
   "execution_count": 2,
   "id": "25d5782c",
   "metadata": {},
   "outputs": [],
   "source": [
    "training = pd.read_csv('data/risk-train.txt', sep='\\t')\n",
    "testing = pd.read_csv('data/risk-test.txt', sep='\\t')"
   ]
  },
  {
   "cell_type": "code",
   "execution_count": 3,
   "id": "7f8253eb",
   "metadata": {},
   "outputs": [],
   "source": [
    "def check_missing(dataset):\n",
    "# Function to check the number of '?' in the dataset.\n",
    "    missing = dataset.isin(['?']).sum(axis=0)\n",
    "    return missing[missing!=0]"
   ]
  },
  {
   "cell_type": "markdown",
   "id": "3628d793",
   "metadata": {},
   "source": [
    "#### Replacing credit card with type of card used and dropping Z_CARD_ART, Z_CARD_VALID and Z_LAST_NAME."
   ]
  },
  {
   "cell_type": "code",
   "execution_count": 4,
   "id": "4a610f98",
   "metadata": {},
   "outputs": [],
   "source": [
    "training.loc[training.Z_METHODE == 'credit_card', 'Z_METHODE'] = training.Z_CARD_ART\n",
    "testing.loc[testing.Z_METHODE == 'credit_card', 'Z_METHODE'] = testing.Z_CARD_ART\n",
    "\n",
    "training = training.drop(['Z_CARD_ART', 'Z_CARD_VALID', 'Z_LAST_NAME'], axis=1)\n",
    "testing = testing.drop(['Z_CARD_ART', 'Z_CARD_VALID', 'Z_LAST_NAME'], axis=1)"
   ]
  },
  {
   "cell_type": "markdown",
   "id": "b1441a81",
   "metadata": {},
   "source": [
    "#### Dropping ANUMMER columns indicating item ID."
   ]
  },
  {
   "cell_type": "code",
   "execution_count": 5,
   "id": "a3273d07",
   "metadata": {},
   "outputs": [],
   "source": [
    "training = training.drop(['ANUMMER_01', \n",
    "                 'ANUMMER_02',\n",
    "                 'ANUMMER_03', \n",
    "                 'ANUMMER_04', \n",
    "                 'ANUMMER_05', \n",
    "                 'ANUMMER_06', \n",
    "                 'ANUMMER_07', \n",
    "                 'ANUMMER_08', \n",
    "                 'ANUMMER_09', \n",
    "                 'ANUMMER_10'], axis=1)\n",
    "\n",
    "testing = testing.drop(['ANUMMER_01', \n",
    "                 'ANUMMER_02',\n",
    "                 'ANUMMER_03', \n",
    "                 'ANUMMER_04', \n",
    "                 'ANUMMER_05', \n",
    "                 'ANUMMER_06', \n",
    "                 'ANUMMER_07', \n",
    "                 'ANUMMER_08', \n",
    "                 'ANUMMER_09', \n",
    "                 'ANUMMER_10'], axis=1)"
   ]
  },
  {
   "cell_type": "markdown",
   "id": "bfedc0cb",
   "metadata": {},
   "source": [
    "#### Dropping B_BIRTHDATE, TIME_ORDER and columns related to returning customers."
   ]
  },
  {
   "cell_type": "code",
   "execution_count": 6,
   "id": "b4ab3ca9",
   "metadata": {},
   "outputs": [],
   "source": [
    "training = training.drop(['B_BIRTHDATE',\n",
    "                          'AMOUNT_ORDER_PRE',\n",
    "                          'VALUE_ORDER_PRE',\n",
    "                          'DATE_LORDER',\n",
    "                          'MAHN_AKT',\n",
    "                          'MAHN_HOECHST',\n",
    "                          'TIME_ORDER'], axis=1)\n",
    "testing = testing.drop(['B_BIRTHDATE',\n",
    "                          'AMOUNT_ORDER_PRE',\n",
    "                          'VALUE_ORDER_PRE',\n",
    "                          'DATE_LORDER',\n",
    "                          'MAHN_AKT',\n",
    "                          'MAHN_HOECHST',\n",
    "                          'TIME_ORDER'], axis=1)"
   ]
  },
  {
   "cell_type": "markdown",
   "id": "85ece591",
   "metadata": {},
   "source": [
    "#### Scaling the Data"
   ]
  },
  {
   "cell_type": "code",
   "execution_count": 7,
   "id": "6bd46798",
   "metadata": {},
   "outputs": [],
   "source": [
    "scaler = MinMaxScaler()\n",
    "training[['VALUE_ORDER', 'SESSION_TIME']] = scaler.fit_transform(training[['VALUE_ORDER', 'SESSION_TIME']])\n",
    "testing[['VALUE_ORDER', 'SESSION_TIME']] = scaler.transform(testing[['VALUE_ORDER', 'SESSION_TIME']])"
   ]
  },
  {
   "cell_type": "markdown",
   "id": "96e4b5d5",
   "metadata": {},
   "source": [
    "#### Getting Dummies"
   ]
  },
  {
   "cell_type": "code",
   "execution_count": 8,
   "id": "bef38d86",
   "metadata": {},
   "outputs": [
    {
     "data": {
      "text/plain": [
       "Index(['ORDER_ID', 'VALUE_ORDER', 'AMOUNT_ORDER', 'SESSION_TIME', 'CLASS_yes',\n",
       "       'B_EMAIL_yes', 'B_TELEFON_yes', 'FLAG_LRIDENTISCH_yes',\n",
       "       'FLAG_NEWSLETTER_yes', 'Z_METHODE_Eurocard', 'Z_METHODE_Visa',\n",
       "       'Z_METHODE_check', 'Z_METHODE_debit_card', 'Z_METHODE_debit_note',\n",
       "       'WEEKDAY_ORDER_Monday', 'WEEKDAY_ORDER_Saturday',\n",
       "       'WEEKDAY_ORDER_Sunday', 'WEEKDAY_ORDER_Thursday',\n",
       "       'WEEKDAY_ORDER_Tuesday', 'WEEKDAY_ORDER_Wednesday', 'CHK_LADR_yes',\n",
       "       'CHK_RADR_yes', 'CHK_KTO_yes', 'CHK_CARD_yes', 'CHK_COOKIE_yes',\n",
       "       'CHK_IP_yes', 'FAIL_LPLZ_yes', 'FAIL_LORT_yes', 'FAIL_LPLZORTMATCH_yes',\n",
       "       'FAIL_RPLZ_yes', 'FAIL_RORT_yes', 'FAIL_RPLZORTMATCH_yes',\n",
       "       'NEUKUNDE_yes'],\n",
       "      dtype='object')"
      ]
     },
     "execution_count": 8,
     "metadata": {},
     "output_type": "execute_result"
    }
   ],
   "source": [
    "training_dummies = pd.get_dummies(training, drop_first=True)\n",
    "training_dummies.columns"
   ]
  },
  {
   "cell_type": "code",
   "execution_count": 9,
   "id": "77b04d1a",
   "metadata": {},
   "outputs": [
    {
     "data": {
      "text/plain": [
       "Index(['ORDER_ID', 'VALUE_ORDER', 'AMOUNT_ORDER', 'SESSION_TIME',\n",
       "       'B_EMAIL_yes', 'B_TELEFON_yes', 'FLAG_LRIDENTISCH_yes',\n",
       "       'FLAG_NEWSLETTER_yes', 'Z_METHODE_Eurocard', 'Z_METHODE_Visa',\n",
       "       'Z_METHODE_check', 'Z_METHODE_debit_card', 'Z_METHODE_debit_note',\n",
       "       'WEEKDAY_ORDER_Monday', 'WEEKDAY_ORDER_Saturday',\n",
       "       'WEEKDAY_ORDER_Sunday', 'WEEKDAY_ORDER_Thursday',\n",
       "       'WEEKDAY_ORDER_Tuesday', 'WEEKDAY_ORDER_Wednesday', 'CHK_LADR_yes',\n",
       "       'CHK_RADR_yes', 'CHK_KTO_yes', 'CHK_CARD_yes', 'CHK_COOKIE_yes',\n",
       "       'CHK_IP_yes', 'FAIL_LPLZ_yes', 'FAIL_LORT_yes', 'FAIL_LPLZORTMATCH_yes',\n",
       "       'FAIL_RPLZ_yes', 'FAIL_RORT_yes', 'FAIL_RPLZORTMATCH_yes',\n",
       "       'NEUKUNDE_yes'],\n",
       "      dtype='object')"
      ]
     },
     "execution_count": 9,
     "metadata": {},
     "output_type": "execute_result"
    }
   ],
   "source": [
    "testing_dummies = pd.get_dummies(testing, drop_first=True)\n",
    "testing_dummies.columns"
   ]
  },
  {
   "cell_type": "code",
   "execution_count": 10,
   "id": "95d84365",
   "metadata": {},
   "outputs": [],
   "source": [
    "training_dummies.to_csv('training-set.csv', index=False)\n",
    "testing_dummies.to_csv('testing-set.csv', index=False)"
   ]
  }
 ],
 "metadata": {
  "kernelspec": {
   "display_name": "Python 3 (ipykernel)",
   "language": "python",
   "name": "python3"
  },
  "language_info": {
   "codemirror_mode": {
    "name": "ipython",
    "version": 3
   },
   "file_extension": ".py",
   "mimetype": "text/x-python",
   "name": "python",
   "nbconvert_exporter": "python",
   "pygments_lexer": "ipython3",
   "version": "3.9.13"
  }
 },
 "nbformat": 4,
 "nbformat_minor": 5
}
